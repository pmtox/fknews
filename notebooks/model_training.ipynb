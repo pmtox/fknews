{
 "cells": [
  {
   "cell_type": "code",
   "execution_count": null,
   "id": "04c35c61",
   "metadata": {},
   "outputs": [],
   "source": [
    "+import pandas as pd\n",
    "from sklearn.model_selection import train_test_split\n",
    "from sklearn.feature_extraction.text import TfidfVectorizer\n",
    "from sklearn.linear_model import LogisticRegression\n",
    "import pickle\n",
    "\n",
    "# Load cleaned data\n",
    "fake_df_clean = pd.read_csv('../data/fake_clean.csv')\n",
    "true_df_clean = pd.read_csv('../data/true_clean.csv')\n",
    "\n",
    "# Merge and shuffle\n",
    "df = pd.concat([fake_df_clean, true_df_clean], ignore_index=True)\n",
    "df = df.sample(frac=1, random_state=42).reset_index(drop=True)\n",
    "\n",
    "# Combine title and text for features\n",
    "X = df['title'] + \" \" + df['text']\n",
    "y = df['label']\n",
    "\n",
    "# Split into train and test sets\n",
    "X_train, X_test, y_train, y_test = train_test_split(\n",
    "    X, y, test_size=0.2, random_state=42, stratify=y\n",
    ")\n",
    "\n",
    "# Vectorize text\n",
    "vectorizer = TfidfVectorizer(stop_words='english', max_df=0.7)\n",
    "X_train_vec = vectorizer.fit_transform(X_train)\n",
    "X_test_vec = vectorizer.transform(X_test)\n",
    "\n",
    "# Train model\n",
    "model = LogisticRegression(max_iter=1000)\n",
    "model.fit(X_train_vec, y_train)\n",
    "\n",
    "# Save model and vectorizer\n",
    "with open('../models/model.pkl', 'wb') as f:\n",
    "    pickle.dump(model, f)\n",
    "with open('../models/vectorizer.pkl', 'wb') as f:\n",
    "    pickle.dump(vectorizer, f)\n",
    "\n",
    "# Save test data for evaluation\n",
    "X_test.to_csv('../data/X_test.csv', index=False)\n",
    "y_test.to_csv('../data/y_test.csv', index=False)"
   ]
  }
 ],
 "metadata": {
  "kernelspec": {
   "display_name": "base",
   "language": "python",
   "name": "python3"
  },
  "language_info": {
   "codemirror_mode": {
    "name": "ipython",
    "version": 3
   },
   "file_extension": ".py",
   "mimetype": "text/x-python",
   "name": "python",
   "nbconvert_exporter": "python",
   "pygments_lexer": "ipython3",
   "version": "3.13.5"
  }
 },
 "nbformat": 4,
 "nbformat_minor": 5
}
