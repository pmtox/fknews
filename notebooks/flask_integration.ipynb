{
 "cells": [
  {
   "cell_type": "code",
   "execution_count": 1,
   "id": "8284e919",
   "metadata": {},
   "outputs": [
    {
     "name": "stdout",
     "output_type": "stream",
     "text": [
      "Fake News\n"
     ]
    }
   ],
   "source": [
    "import pickle\n",
    "\n",
    "# Load model and vectorizer\n",
    "with open('../models/model.pkl', 'rb') as f:\n",
    "    model = pickle.load(f)\n",
    "with open('../models/vectorizer.pkl', 'rb') as f:\n",
    "    vectorizer = pickle.load(f)\n",
    "\n",
    "# Example prediction\n",
    "def predict_fake_news(title, text):\n",
    "    combined = title + \" \" + text\n",
    "    features = vectorizer.transform([combined])\n",
    "    prediction = model.predict(features)[0]\n",
    "    return 'True News' if prediction == 1 else 'Fake News'\n",
    "\n",
    "# Test with a sample\n",
    "sample_title = \"President Donald Trump is Dead\"\n",
    "sample_text = \"U.S. President Donald Trump has died in a car accident, according to a report from the White House.\"\n",
    "print(predict_fake_news(sample_title, sample_text))"
   ]
  }
 ],
 "metadata": {
  "kernelspec": {
   "display_name": "base",
   "language": "python",
   "name": "python3"
  },
  "language_info": {
   "codemirror_mode": {
    "name": "ipython",
    "version": 3
   },
   "file_extension": ".py",
   "mimetype": "text/x-python",
   "name": "python",
   "nbconvert_exporter": "python",
   "pygments_lexer": "ipython3",
   "version": "3.13.5"
  }
 },
 "nbformat": 4,
 "nbformat_minor": 5
}
